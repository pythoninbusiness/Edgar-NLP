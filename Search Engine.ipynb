{
 "cells": [
  {
   "cell_type": "code",
   "execution_count": 1,
   "metadata": {},
   "outputs": [],
   "source": [
    "# nlp venv\n",
    "from sklearn.feature_extraction.text import TfidfVectorizer\n",
    "from Helpers import textpreprocess, cosinesimilarity\n",
    "import pandas as pd"
   ]
  },
  {
   "cell_type": "markdown",
   "metadata": {},
   "source": [
    "# Production"
   ]
  },
  {
   "cell_type": "code",
   "execution_count": 2,
   "metadata": {},
   "outputs": [],
   "source": [
    "data_file_path = \"./data/turbotax.json\"\n",
    "df = pd.read_json(data_file_path)\n",
    "df[\"content\"] = df[\"content\"].str.replace(\"\\xa0\", \" \").str.replace(\"\\ufeff\", \"\")\n",
    "df[\"content\"] = textpreprocess.remove_extra_spaces(df[\"content\"])"
   ]
  },
  {
   "cell_type": "code",
   "execution_count": 5,
   "metadata": {},
   "outputs": [
    {
     "data": {
      "text/plain": [
       "[(\" The U.S. Tax Code is structured to provide assistance to lower-income taxpayers. As a low-income filer, you might be entitled to various credits and deductions for which other taxpayers don't qualify. Certain situations in particular, such as having children or making retirement plan contributions, are considered when credits are included in the tax code. However, these incentives typically phase out when taxpayers reach a higher income level. Retirement savings contribution credit A little-known provision allows certain lower-income taxpayers to receive credits for making retirement plan contributions. The amount of the credit ranges from 10 percent to 50 percent of the first $2,000 that you put into a retirement plan, such as an individual retirement account (IRA). As of 2021, a single filer could get the maximum 50 percent credit if your adjusted gross income was $19,750 or less. The amount of the credit steps down at various income levels depending on your filing status. For a single filer, an AGI exceeding $33,00 in 2021 would make you ineligible to claim the credit. If you're married and filing jointly, the limit rises to $66,000. Earned income tax credit The earned income tax credit (EITC) is available exclusively for lower- and middle-income taxpayers. Unlike some other credits, the EITC is refundable, meaning you still receive it even if it's more than your tax. For example, if you owe $200 in taxes but qualify for a $1,000 EITC, you'll actually receive $800 as a tax refund. It is easiest to obtain the credit with one or more qualifying children, although it's possible to get the credit as an individual. For 2021, you must have an AGI below the following levels to qualify for the EITC: with three or more qualifying children, $51,464, or $57,414 if married filing jointly with two qualifying children, $47,915, or $53,865 if married filing jointly with one qualifying child, $42,158 or $48,108 if married filing jointly with no qualifying children, $21,430 or $27,830 if married filing jointly The maximum credit you can receive also varies based on the number of qualifying children you have. For 2021, the following maximums are in place: $6,728 with three or more qualifying children $5,980 with two qualifying children $3,618 with one qualifying child $1,502 with no qualifying children Credit for the elderly and disabled As a low-income taxpayer, you may qualify for the credit for the elderly and disabled. In addition to qualifying based on income, you must meet one of two additional criteria—you must either be age 65 or older at the end of the year, or you must have retired on total and permanent disability and have taxable disability income. If your AGI is equal to or exceeds the following limits, you cannot qualify for this credit: $17,500, if you're single, head of household, or a qualifying widow(er) with qualifying child $20,000, if you're married filing jointly and only one spouse otherwise qualifies $25,000, if you're married filing jointly with both spouses qualifying $12,500, if you're married filing separately and lived apart from your spouse for the entire year You also cannot take this credit if your nontaxable social security or nontaxable pension, annuity or disability income exceeds certain limits. Those limits are $5,000 for the first two filing categories above, $7,500 for the third category, and $3,750 for the final group. IRA contributions The IRS will allow you to take an IRA deduction as a low-income taxpayer, even if both you and your spouse are covered by retirement plans at work. There are limits that can restrict the deductibility of your contribution in certain cases, but those limits are well above the level of a low-income taxpayer. For example, in 2021 if you were a single filer covered by a retirement plan at work, you could still deduct your full IRA contribution with a modified adjusted gross income as high as $66,000. The single-filer deduction phases out as your income increases to $76,000. As a couple filing jointly, the limit would jump to $105,000, with the deduction phasing out as your joint income reaches $125,000. The only time a low income might cause problems with your IRA deduction is if you are married, filing separately, and at any time during the year you lived with your spouse. In that instance, you can't take a full deduction on an IRA contribution, regardless of your coverage at work. You could take a partial deduction with an MAGI of up to $10,000 only. Beyond that, you couldn't take any deduction at all. Remember, with TurboTax, we'll ask you simple questions about your life and help you fill out all the right tax forms. With TurboTax you can be confident your taxes are done right, from simple to complex tax returns, no matter what your situation. \",\n",
       "  'Tax Tips for Low-Income Filers',\n",
       "  0.9690031662230186)]"
      ]
     },
     "execution_count": 5,
     "metadata": {},
     "output_type": "execute_result"
    }
   ],
   "source": [
    "query = \"child tax credit\"\n",
    "cosinesimilarity.search_engine(query, df[\"content\"], limit=1, add_cols=[df[\"title\"]])"
   ]
  },
  {
   "cell_type": "code",
   "execution_count": null,
   "metadata": {},
   "outputs": [],
   "source": []
  }
 ],
 "metadata": {
  "interpreter": {
   "hash": "5c9f7ca5eb0685a44c76c7da3d985b6862aad83bf29bcd65e77ede16d5bcfc7b"
  },
  "kernelspec": {
   "display_name": "Python 3.9.7 64-bit ('nlp': venv)",
   "name": "python3"
  },
  "language_info": {
   "codemirror_mode": {
    "name": "ipython",
    "version": 3
   },
   "file_extension": ".py",
   "mimetype": "text/x-python",
   "name": "python",
   "nbconvert_exporter": "python",
   "pygments_lexer": "ipython3",
   "version": "3.9.9"
  },
  "orig_nbformat": 4
 },
 "nbformat": 4,
 "nbformat_minor": 2
}
